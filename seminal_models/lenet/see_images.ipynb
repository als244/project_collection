{
 "cells": [
  {
   "cell_type": "code",
   "execution_count": 28,
   "id": "98735234-516c-4b65-9f7d-faedd912de37",
   "metadata": {},
   "outputs": [
    {
     "data": {
      "text/html": [
       "        <script type=\"text/javascript\">\n",
       "        window.PlotlyConfig = {MathJaxConfig: 'local'};\n",
       "        if (window.MathJax && window.MathJax.Hub && window.MathJax.Hub.Config) {window.MathJax.Hub.Config({SVG: {font: \"STIX-Web\"}});}\n",
       "        if (typeof require !== 'undefined') {\n",
       "        require.undef(\"plotly\");\n",
       "        requirejs.config({\n",
       "            paths: {\n",
       "                'plotly': ['https://cdn.plot.ly/plotly-2.12.1.min']\n",
       "            }\n",
       "        });\n",
       "        require(['plotly'], function(Plotly) {\n",
       "            window._Plotly = Plotly;\n",
       "        });\n",
       "        }\n",
       "        </script>\n",
       "        "
      ]
     },
     "metadata": {},
     "output_type": "display_data"
    }
   ],
   "source": [
    "import numpy as np\n",
    "import pandas as pd\n",
    "import matplotlib.pyplot as plt\n",
    "import plotly.offline as pyo\n",
    "import plotly.graph_objs as go\n",
    "pyo.init_notebook_mode(connected=True)"
   ]
  },
  {
   "cell_type": "code",
   "execution_count": 29,
   "id": "f4a264ae-da55-4bec-be1b-47b183d62de5",
   "metadata": {},
   "outputs": [],
   "source": [
    "training_images_raw = np.fromfile(\"training_images_raw\", dtype=np.uint8)\n",
    "training_labels_raw = np.fromfile(\"training_labels_raw\", dtype=np.uint8)"
   ]
  },
  {
   "cell_type": "code",
   "execution_count": 40,
   "id": "cd037c24-b8a1-42d8-9413-a35c98dabec4",
   "metadata": {},
   "outputs": [],
   "source": [
    "training_images = np.fromfile(\"training_images\", dtype=np.float32)\n",
    "training_labels = np.fromfile(\"training_labels\", dtype=np.float32)"
   ]
  },
  {
   "cell_type": "code",
   "execution_count": 41,
   "id": "b73356de-9c74-477c-952b-fdca2c42be21",
   "metadata": {},
   "outputs": [],
   "source": [
    "x_in_raw = np.reshape(training_images_raw, (60000, 784))\n",
    "y_out_raw = np.reshape(training_labels_raw, (60000, 1))"
   ]
  },
  {
   "cell_type": "code",
   "execution_count": 42,
   "id": "ef7456f2-a6ed-4547-aaa8-2ba741bf63db",
   "metadata": {},
   "outputs": [],
   "source": [
    "x_in = np.reshape(training_images, (60000, 257))\n",
    "y_out = np.reshape(training_labels, (60000, 10))"
   ]
  },
  {
   "cell_type": "code",
   "execution_count": 78,
   "id": "437ede4e-63c7-49bd-869b-694bf5abc406",
   "metadata": {},
   "outputs": [],
   "source": [
    "def plot_image(im_num, x_in_raw, x_in):\n",
    "    values_raw = x_in_raw[im_num, :]\n",
    "    values_in = x_in[im_num, :][:256]\n",
    "    raw = np.reshape(values_raw, (28, 28))\n",
    "    inp = np.reshape(values_in, (16, 16))\n",
    "    return raw, inp"
   ]
  },
  {
   "cell_type": "code",
   "execution_count": 75,
   "id": "04644258-aef3-446d-a5d7-c2eb12ede7c2",
   "metadata": {},
   "outputs": [],
   "source": [
    "first_image = x_in[17000, :][:256]"
   ]
  },
  {
   "cell_type": "code",
   "execution_count": 85,
   "id": "a1c31c31-21b5-4c77-8f48-67bc8dc6f25e",
   "metadata": {},
   "outputs": [],
   "source": [
    "im_num = 33000\n",
    "raw, inp = plot_image(im_num, x_in_raw, x_in)"
   ]
  },
  {
   "cell_type": "code",
   "execution_count": 86,
   "id": "5f2fbc09-09b0-4f26-ab0d-27326c680b39",
   "metadata": {},
   "outputs": [
    {
     "data": {
      "text/plain": [
       "<matplotlib.image.AxesImage at 0x7fc283b6f010>"
      ]
     },
     "execution_count": 86,
     "metadata": {},
     "output_type": "execute_result"
    },
    {
     "data": {
      "image/png": "[encoded data removed]",
      "text/plain": [
       "<Figure size 432x288 with 1 Axes>"
      ]
     },
     "metadata": {
      "needs_background": "light"
     },
     "output_type": "display_data"
    }
   ],
   "source": [
    "plt.imshow(raw)"
   ]
  },
  {
   "cell_type": "code",
   "execution_count": 87,
   "id": "9a1239b4-0189-4272-977b-fc7d762555e6",
   "metadata": {},
   "outputs": [
    {
     "data": {
      "text/plain": [
       "<matplotlib.image.AxesImage at 0x7fc283bd5f90>"
      ]
     },
     "execution_count": 87,
     "metadata": {},
     "output_type": "execute_result"
    },
    {
     "data": {
      "image/png": "[encoded data removed]",
      "text/plain": [
       "<Figure size 432x288 with 1 Axes>"
      ]
     },
     "metadata": {
      "needs_background": "light"
     },
     "output_type": "display_data"
    }
   ],
   "source": [
    "plt.imshow(inp)"
   ]
  }
 ],
 "metadata": {
  "kernelspec": {
   "display_name": "Python 3 (ipykernel)",
   "language": "python",
   "name": "python3"
  },
  "language_info": {
   "codemirror_mode": {
    "name": "ipython",
    "version": 3
   },
   "file_extension": ".py",
   "mimetype": "text/x-python",
   "name": "python",
   "nbconvert_exporter": "python",
   "pygments_lexer": "ipython3",
   "version": "3.10.4"
  }
 },
 "nbformat": 4,
 "nbformat_minor": 5
}
