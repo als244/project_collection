{
 "cells": [
  {
   "cell_type": "code",
   "execution_count": 441,
   "id": "39600268-3175-418a-8066-1f7cd5cf449d",
   "metadata": {},
   "outputs": [],
   "source": [
    "import pandas as pd\n",
    "import numpy as np\n",
    "import matplotlib.pyplot as plt\n",
    "import plotly.offline as pyo\n",
    "import plotly.graph_objs as go\n",
    "import glob\n",
    "import os"
   ]
  },
  {
   "cell_type": "code",
   "execution_count": 513,
   "id": "8f86fcc8-44d8-42b6-ab68-e72c53e86a8f",
   "metadata": {},
   "outputs": [],
   "source": [
    "DUMP_ID = 640"
   ]
  },
  {
   "cell_type": "code",
   "execution_count": 514,
   "id": "89164880-02da-4317-9148-46fe9aaeebf6",
   "metadata": {},
   "outputs": [],
   "source": [
    "PATH_PREFIX = \"/mnt/storage/data/vision/imagenet/training_dumps/\" + str(DUMP_ID).zfill(8)"
   ]
  },
  {
   "cell_type": "markdown",
   "id": "4eaebd58-eb52-45dc-b157-af1e1deaaa7f",
   "metadata": {},
   "source": [
    "### Parameters"
   ]
  },
  {
   "cell_type": "code",
   "execution_count": 507,
   "id": "3b5e15c8-98be-44d2-b655-1116dd366cdd",
   "metadata": {},
   "outputs": [],
   "source": [
    "def get_values_from_files(filenames):\n",
    "    arr = []\n",
    "    for f in filenames:\n",
    "        arr.append(np.fromfile(f, dtype=np.float32))\n",
    "    return arr"
   ]
  },
  {
   "cell_type": "code",
   "execution_count": 515,
   "id": "61264ce0-fdda-40ba-a75c-f2236ff95119",
   "metadata": {},
   "outputs": [],
   "source": [
    "model_param_buffer_filenames = sorted(glob.glob(PATH_PREFIX + \"/model_params/*\"))\n",
    "gradient_buffer_filenames = sorted(glob.glob(PATH_PREFIX + \"/gradients/*\"))\n",
    "mean_buffer_filenames = sorted(glob.glob(PATH_PREFIX + \"/means/*\"))\n",
    "var_buffer_filenames = sorted(glob.glob(PATH_PREFIX + \"/vars/*\"))"
   ]
  },
  {
   "cell_type": "code",
   "execution_count": 516,
   "id": "92237956-78ee-4d63-84af-4eb55427469a",
   "metadata": {},
   "outputs": [],
   "source": [
    "model_params_list = get_values_from_files(model_param_buffer_filenames)\n",
    "gradients_list = get_values_from_files(gradient_buffer_filenames)\n",
    "means_list = get_values_from_files(mean_buffer_filenames)\n",
    "vars_list = get_values_from_files(var_buffer_filenames)"
   ]
  },
  {
   "cell_type": "code",
   "execution_count": 517,
   "id": "f610ef92-304d-491a-9465-6d940220bfa7",
   "metadata": {},
   "outputs": [
    {
     "name": "stdout",
     "output_type": "stream",
     "text": [
      "[-0.8363113-0.013355222]\n",
      "[-0.17130719-0.18393156]\n",
      "[-0.07876639-0.07254439]\n",
      "[0.0-0.0]\n",
      "[-0.0070496295-0.0015472133]\n",
      "[-0.0006786119-1.6284233e-05]\n",
      "[-0.00044640462-0.00012055687]\n",
      "[0.0-0.0]\n",
      "[-7.1367635e-05-0.0001776251]\n",
      "[-0.0011396919--0.00048585175]\n",
      "[-0.0008936281--0.00043459272]\n",
      "[0.0-0.0]\n",
      "[7.118365e-05-0.0022217296]\n",
      "[-0.14022303-0.1789879]\n",
      "[-0.06851056-0.08047116]\n",
      "[0.0-0.0]\n",
      "[-0.0020900078-0.006729803]\n",
      "[-0.0006246123-0.00012863561]\n",
      "[-0.0003447849-0.0001777429]\n",
      "[0.0-0.0]\n",
      "[-6.000383e-05-0.00014968617]\n",
      "[-0.00081462355--0.0003980487]\n",
      "[-0.00059229165--0.0003164214]\n",
      "[0.0-0.0]\n",
      "[6.141255e-05-0.0016111501]\n",
      "[-0.14089762-0.1472841]\n",
      "[-0.08321755-0.08808192]\n",
      "[0.0-0.0]\n",
      "[-0.21473114-0.3611145]\n",
      "[-0.14089762-0.1472841]\n",
      "[-0.07674796-0.08845531]\n",
      "[0.0-0.0]\n",
      "[-0.018554522-0.02521982]\n",
      "[-0.0020704411-0.0021836604]\n",
      "[-0.001220143-0.0013126191]\n",
      "[0.0-0.0]\n",
      "[-0.0008769233-0.001178356]\n",
      "[-0.001226957-1.2066989e-05]\n",
      "[-0.00048195865-3.0889238e-05]\n",
      "[0.0-0.0]\n",
      "[-3.286407e-05-0.010720545]\n",
      "[-0.29161686--0.10245483]\n",
      "[-0.1101736-0.10917567]\n",
      "[0.0-0.0]\n",
      "[-0.17566244-0.13160187]\n",
      "[-0.06426048-0.020835808]\n",
      "[-0.03807531-0.012347241]\n",
      "[0.0-0.0]\n",
      "[-0.00654817-0.035865597]\n",
      "[-0.050972097-0.00035959113]\n",
      "[-0.017683955-0.0009381423]\n",
      "[0.0-0.0]\n",
      "[-0.0028635063-0.16676295]\n",
      "[-0.2889795--0.10120583]\n",
      "[-0.10469303-0.11012995]\n",
      "[0.0-0.0]\n",
      "[-0.10976439-0.38184687]\n",
      "[-0.0729367-0.029794892]\n",
      "[-0.043404035-0.017658135]\n",
      "[0.0-0.0]\n",
      "[-0.0040015955-0.0009606676]\n",
      "[-0.0002779228-0.00022890375]\n",
      "[-0.00042051903-0.00013269945]\n",
      "[0.0-0.0]\n",
      "[-0.001993389-0.00037326178]\n",
      "[-0.28938046--0.10143423]\n",
      "[-0.10644322-0.10950378]\n",
      "[0.0-0.0]\n",
      "[-0.14960122-0.09264685]\n",
      "[-0.061607454-0.022213886]\n",
      "[-0.03660558-0.01318934]\n",
      "[0.0-0.0]\n",
      "[-0.0022103563-0.05338658]\n",
      "[-0.00072338386-0.001088557]\n",
      "[-0.0015578824-0.0024043156]\n",
      "[0.0-0.0]\n",
      "[-0.0009853303-0.0002571732]\n",
      "[-0.2895101--0.10137304]\n",
      "[-0.111771464-0.1225315]\n",
      "[0.0-0.0]\n",
      "[-0.14359802-0.06438048]\n",
      "[-0.061139785-0.02377276]\n",
      "[-0.03656321-0.014090667]\n",
      "[0.0-0.0]\n",
      "[-0.0046363245-0.035665616]\n",
      "[-0.12973225-0.028249644]\n",
      "[-0.04547426-0.009968303]\n",
      "[0.0-0.0]\n",
      "[-0.07048928-0.52779686]\n",
      "[-0.28854766--0.08157102]\n",
      "[-0.112693086-0.12810941]\n",
      "[0.0-0.0]\n",
      "[-0.15365304-0.10744625]\n",
      "[-0.055602625-0.018611368]\n",
      "[-0.032967247-0.010975915]\n",
      "[0.0-0.0]\n",
      "[-0.0041295723-0.050991606]\n",
      "[-0.018881889-0.0012324858]\n",
      "[-0.006389637-0.0028942046]\n",
      "[0.0-0.0]\n",
      "[-0.0009651873-0.074520856]\n",
      "[-0.28823468--0.09206673]\n",
      "[-0.114675656--0.03553811]\n",
      "[0.0-0.0]\n",
      "[0.00058389315-0.013273035]\n",
      "[-0.28823468--0.09206673]\n",
      "[-0.10877906-0.114500545]\n",
      "[0.0-0.0]\n",
      "[-2.1750686e-05-1.1290625e-05]\n",
      "[-4.801402e-05--2.2973263e-05]\n",
      "[-4.224369e-06-4.776934e-06]\n",
      "[0.0-0.0]\n",
      "[4.6508403e-06-5.061953e-05]\n",
      "[-0.0010059347--0.0006079254]\n",
      "[-0.00030529348--0.00018412518]\n",
      "[0.0-0.0]\n",
      "[2.5428335e-06-4.840722e-05]\n",
      "[-2.8622901--0.8423016]\n",
      "[-0.96604466-0.8724666]\n",
      "[0.0-0.0]\n",
      "[-0.023358585-0.023249589]\n",
      "[-0.051934447--0.029742768]\n",
      "[-0.06353995--0.03592603]\n",
      "[0.0-0.0]\n",
      "[0.0154990135-0.06925406]\n",
      "[-1.3605356--0.80607456]\n",
      "[-0.38477695--0.22761507]\n",
      "[0.0-0.0]\n",
      "[0.0045766262-0.096461385]\n",
      "[-3.4607549--1.393507]\n",
      "[-0.9357325-1.0237554]\n",
      "[0.0-0.0]\n",
      "[-0.029078325-0.029415354]\n",
      "[-0.05914193--0.032068953]\n",
      "[-0.0788288--0.04245356]\n",
      "[0.0-0.0]\n",
      "[0.016256811-0.06741622]\n",
      "[-1.3727084--0.7544423]\n",
      "[-0.38036254--0.20841886]\n",
      "[0.0-0.0]\n",
      "[0.0012137126-0.036585737]\n",
      "[-4.0738926--1.9374934]\n",
      "[-1.2377578-1.1834674]\n",
      "[0.0-0.0]\n",
      "[-0.046462983-0.084631234]\n",
      "[-0.07919394--0.041033126]\n",
      "[-0.11231164--0.05825525]\n",
      "[0.0-0.0]\n",
      "[0.01826055-0.09293198]\n",
      "[-1.644602--0.96662277]\n",
      "[-0.44349262--0.260219]\n",
      "[0.0-0.0]\n",
      "[0.001154091-0.024329783]\n",
      "[-0.3905611--0.0018820701]\n",
      "[-0.03476208-0.01905596]\n",
      "[0.0-0.0]\n",
      "[-0.00031169978-1.5249411]\n",
      "[-0.3905611--0.0018820701]\n",
      "[-0.9632281-0.9769086]\n",
      "[0.0-0.0]\n",
      "[-7.5622443e-06-4.6569708e-06]\n",
      "[-6.098941e-07-1.157364e-06]\n",
      "[-2.4261246e-07-4.600411e-07]\n",
      "[0.0-0.0]\n",
      "[-4.147648e-09-3.9136463e-09]\n",
      "[-3.3500546e-12-5.8682774e-11]\n",
      "[-9.524808e-11-7.611718e-11]\n",
      "[0.0-0.0]\n",
      "[-2.1527005e-09-3.8295192e-10]\n",
      "[-391.01547-19.679026]\n",
      "[-292.9962-295.93878]\n",
      "[0.0-0.0]\n",
      "[-826.1597-259.33096]\n",
      "[-47.696117--0.698446]\n",
      "[-18.9905--0.27725238]\n",
      "[0.0-0.0]\n",
      "[-0.18444353-0.18198453]\n",
      "[-0.0026464027-0.001758253]\n",
      "[-0.006022922-0.010609531]\n",
      "[0.0-0.0]\n",
      "[-0.072900385-0.10053789]\n",
      "[-391.08374-19.602772]\n",
      "[-294.37503-293.55713]\n",
      "[0.0-0.0]\n",
      "[-151.65283-459.75815]\n",
      "[-10.542083-10.793758]\n",
      "[-4.1168184-4.2742915]\n",
      "[0.0-0.0]\n",
      "[-0.97863185-1.4155041]\n",
      "[-0.00789647-0.012799432]\n",
      "[-0.028265415-0.046886697]\n",
      "[0.0-0.0]\n",
      "[-0.43634212-0.15801446]\n",
      "[-388.1478-19.591223]\n",
      "[-8.652598-7.080918]\n",
      "[0.0-0.0]\n",
      "[-1662.3903-33005.055]\n",
      "[-388.1478-19.591223]\n",
      "[-187.39003-191.25928]\n",
      "[0.0-0.0]\n",
      "[-16.907217-334.54]\n",
      "[-1.5666518-0.052300416]\n",
      "[-5.5419083-0.17049815]\n",
      "[0.0-0.0]\n",
      "[-6.8109484-92.490585]\n",
      "[-1573.2493-0.0]\n",
      "[-33.12846-13.218827]\n",
      "[0.0-0.0]\n",
      "[0.0-133476.61]\n",
      "[-5584051.0--3455699.0]\n",
      "[0.0-0.0]\n",
      "[0.0-0.0]\n",
      "[0.0-0.0]\n"
     ]
    }
   ],
   "source": [
    "for i in range(212, -1, -1):\n",
    "    print(\"[\" + str(min(gradients_list[i])) + \"-\" + str(max(gradients_list[i])) + \"]\")"
   ]
  },
  {
   "cell_type": "markdown",
   "id": "6f8cfc1c-e653-42dc-a52f-df388679ced8",
   "metadata": {},
   "source": [
    "### Forward Activations"
   ]
  },
  {
   "cell_type": "code",
   "execution_count": 209,
   "id": "ed71ec68-def7-48ce-823b-dcdcab813938",
   "metadata": {},
   "outputs": [],
   "source": [
    "def gather_batch_norm_data(dir_name):\n",
    "    data_list = []\n",
    "    for s in [\"reduced\", \"spatial\", \"expanded\"]:\n",
    "        for f in [\"means.buffer\", \"vars.buffer\", \"norm_temp.buffer\", \"norm.buffer\"]:\n",
    "            data = np.fromfile(dir_name + \"/\" + s + \"/\" + f, dtype=np.float32)\n",
    "            data_list.append(data)\n",
    "    return data_list"
   ]
  },
  {
   "cell_type": "code",
   "execution_count": 444,
   "id": "81130980-301c-487f-aa97-b6ee8c801405",
   "metadata": {},
   "outputs": [],
   "source": [
    "def gather_convblock_data(dir_name):\n",
    "    data_list = []\n",
    "    for f in [\"reduction_applied.buffer\", \"reduction_activated.buffer\", \"spatial_applied.buffer\", \"spatial_activated.buffer\", \"expanded_applied.buffer\", \"combined_output.buffer\", \"output_activated.buffer\"]:\n",
    "        data = np.fromfile(dir_name + \"/\" + f, dtype=np.float32)\n",
    "        data_list.append(data)\n",
    "    return data_list"
   ]
  },
  {
   "cell_type": "markdown",
   "id": "a243f95e-5e9a-4406-9b53-9f2f16c199ec",
   "metadata": {},
   "source": [
    "#### Initial Conv Layer and MaxPool"
   ]
  },
  {
   "cell_type": "code",
   "execution_count": 9,
   "id": "936f407c-7183-41b6-872e-7e92e915b18d",
   "metadata": {},
   "outputs": [],
   "source": [
    "init_conv_applied = np.fromfile(PATH_PREFIX + \"/activations/init_conv_applied.buffer\", dtype=np.float32)\n",
    "init_conv_activated = np.fromfile(PATH_PREFIX + \"/activations/init_conv_activated.buffer\", dtype=np.float32)\n",
    "max_inds = np.fromfile(PATH_PREFIX + \"/activations/max_inds.buffer\", dtype=np.int32)\n",
    "init_convblock_input = np.fromfile(PATH_PREFIX + \"/activations/init_convblock_input.buffer\", dtype=np.float32)"
   ]
  },
  {
   "cell_type": "code",
   "execution_count": 388,
   "id": "fea54ea7-fb68-4fcf-998d-032fd9ebdd9d",
   "metadata": {},
   "outputs": [],
   "source": [
    "data_list = gather_batch_norm_data(PATH_PREFIX + \"/activation_derivs/batch_norms/00\")"
   ]
  },
  {
   "cell_type": "code",
   "execution_count": 389,
   "id": "54d49e1b-d05f-427e-936c-f568ef4b0d59",
   "metadata": {},
   "outputs": [
    {
     "name": "stdout",
     "output_type": "stream",
     "text": [
      "[0.0 - 0.0]\n",
      "[0.0 - 0.0]\n",
      "[-835.5199 - 907.6788]\n",
      "[0.0 - 0.0]\n",
      "[0.0 - 0.0]\n",
      "[0.0 - 0.0]\n",
      "[-447.0688 - 381.68115]\n",
      "[0.0 - 0.0]\n",
      "[0.0 - 0.0]\n",
      "[0.0 - 0.0]\n",
      "[-136.80064 - 149.83704]\n",
      "[0.0 - 0.0]\n"
     ]
    }
   ],
   "source": [
    "for d in data_list:\n",
    "    print(\"[\" + str(min(d)) + \" - \" + str(max(d)) + \"]\")"
   ]
  },
  {
   "cell_type": "markdown",
   "id": "666773b6-55eb-4d78-a55f-348b9a7313ec",
   "metadata": {},
   "source": [
    "#### Final Avg Pool, Fully Connected, and Softmax"
   ]
  },
  {
   "cell_type": "code",
   "execution_count": 10,
   "id": "23792b56-eb10-4c18-829c-5a00f0676d83",
   "metadata": {},
   "outputs": [],
   "source": [
    "final_avg_pool = np.fromfile(PATH_PREFIX + \"/activations/final_avg_pool.buffer\", dtype=np.float32)\n",
    "fc_output = np.fromfile(PATH_PREFIX + \"/activations/fc_output.buffer\", dtype=np.float32)\n",
    "prediction = np.fromfile(PATH_PREFIX + \"/activations/softmax.buffer\", dtype=np.float32)\n",
    "correct_classes = np.fromfile(PATH_PREFIX + \"/activations/correct_classes.buffer\", dtype=np.int32)"
   ]
  },
  {
   "cell_type": "code",
   "execution_count": 30,
   "id": "8e028e0b-be5d-4702-9a75-9f8957518906",
   "metadata": {},
   "outputs": [
    {
     "data": {
      "text/plain": [
       "-4.580309"
      ]
     },
     "execution_count": 30,
     "metadata": {},
     "output_type": "execute_result"
    }
   ],
   "source": [
    "min(fc_output)"
   ]
  },
  {
   "cell_type": "markdown",
   "id": "fb7c3b52-18f9-4578-a225-62948b0a6f13",
   "metadata": {},
   "source": [
    "### Backward Activations"
   ]
  },
  {
   "cell_type": "code",
   "execution_count": 436,
   "id": "757324f7-ae72-4736-8ccd-fa33cbf14660",
   "metadata": {},
   "outputs": [],
   "source": [
    "d_init_conv_applied = np.fromfile(PATH_PREFIX + \"/activation_derivs/init_conv_applied.buffer\", dtype=np.float32)\n",
    "d_init_conv_activated = np.fromfile(PATH_PREFIX + \"/activation_derivs/init_conv_activated.buffer\", dtype=np.float32)\n",
    "d_init_convblock_input = np.fromfile(PATH_PREFIX + \"/activation_derivs/init_convblock_input.buffer\", dtype=np.float32)\n",
    "d_final_avg_pool = np.fromfile(PATH_PREFIX + \"/activation_derivs/final_avg_pool.buffer\", dtype=np.float32)\n",
    "d_fc_output = np.fromfile(PATH_PREFIX + \"/activation_derivs/fc_output.buffer\", dtype=np.float32)\n",
    "d_prediction = np.fromfile(PATH_PREFIX + \"/activation_derivs/softmax.buffer\", dtype=np.float32)"
   ]
  },
  {
   "cell_type": "code",
   "execution_count": 438,
   "id": "75a609e6-c178-4d36-85ea-89642ae7e846",
   "metadata": {},
   "outputs": [
    {
     "name": "stdout",
     "output_type": "stream",
     "text": [
      "[-0.00401514 - 0.004302698]\n"
     ]
    }
   ],
   "source": [
    "print(\"[\" + str(min(d_final_avg_pool)) + \" - \" + str(max(d_final_avg_pool)) + \"]\")"
   ]
  },
  {
   "cell_type": "code",
   "execution_count": 486,
   "id": "9de44225-2d36-44ee-b385-9e047888656c",
   "metadata": {},
   "outputs": [],
   "source": [
    "DUMP_ID = 0\n",
    "PATH_PREFIX = \"/mnt/storage/data/vision/imagenet/training_dumps/\" + str(DUMP_ID).zfill(8)\n",
    "conv_data_list = gather_convblock_data(PATH_PREFIX + \"/activation_derivs/conv_blocks/08\")"
   ]
  },
  {
   "cell_type": "code",
   "execution_count": 487,
   "id": "609108ca-71e1-4428-91e1-4b0f7b6fef11",
   "metadata": {},
   "outputs": [
    {
     "name": "stdout",
     "output_type": "stream",
     "text": [
      "[-3.4619005 - 2.903917]\n",
      "[-0.17878185 - 0.17705059]\n",
      "[-0.75275075 - 0.84935224]\n",
      "[-0.082793474 - 0.08686427]\n",
      "[-0.6543597 - 0.62088454]\n",
      "[-0.025375048 - 0.028530437]\n",
      "[-0.025375048 - 0.028530437]\n"
     ]
    }
   ],
   "source": [
    "for c in conv_data_list:\n",
    "    print(\"[\" + str(min(c)) + \" - \" + str(max(c)) + \"]\")"
   ]
  },
  {
   "cell_type": "code",
   "execution_count": 488,
   "id": "0d0de105-f015-4118-9722-fbfeca25a337",
   "metadata": {},
   "outputs": [],
   "source": [
    "DUMP_ID = 2\n",
    "PATH_PREFIX = \"/mnt/storage/data/vision/imagenet/training_dumps/\" + str(DUMP_ID).zfill(8)\n",
    "conv_data_list = gather_convblock_data(PATH_PREFIX + \"/activation_derivs/conv_blocks/08\")"
   ]
  },
  {
   "cell_type": "code",
   "execution_count": 489,
   "id": "22bd4290-897d-4144-89bd-7b4dd87d1b6a",
   "metadata": {},
   "outputs": [
    {
     "name": "stdout",
     "output_type": "stream",
     "text": [
      "[-3.0024638 - 3.4002678]\n",
      "[-0.18356527 - 0.17030282]\n",
      "[-0.8715495 - 0.8251272]\n",
      "[-0.1011737 - 0.08904381]\n",
      "[-0.74025804 - 0.6807653]\n",
      "[-0.027166499 - 0.028757486]\n",
      "[-0.027166499 - 0.028757486]\n"
     ]
    }
   ],
   "source": [
    "for c in conv_data_list:\n",
    "    print(\"[\" + str(min(c)) + \" - \" + str(max(c)) + \"]\")"
   ]
  },
  {
   "cell_type": "code",
   "execution_count": null,
   "id": "f714df87-c7e6-4dbd-aa7d-44fa0beed40a",
   "metadata": {},
   "outputs": [],
   "source": []
  }
 ],
 "metadata": {
  "kernelspec": {
   "display_name": "Python 3 (ipykernel)",
   "language": "python",
   "name": "python3"
  },
  "language_info": {
   "codemirror_mode": {
    "name": "ipython",
    "version": 3
   },
   "file_extension": ".py",
   "mimetype": "text/x-python",
   "name": "python",
   "nbconvert_exporter": "python",
   "pygments_lexer": "ipython3",
   "version": "3.10.6"
  }
 },
 "nbformat": 4,
 "nbformat_minor": 5
}
