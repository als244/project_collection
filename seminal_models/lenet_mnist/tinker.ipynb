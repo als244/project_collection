{
 "cells": [
  {
   "cell_type": "code",
   "execution_count": 128,
   "id": "02f85ca7-9e98-4152-b647-5ea0e6d1ce46",
   "metadata": {},
   "outputs": [],
   "source": [
    "## assuming cutting in half feature map\n",
    "def add_conv_connections(k, i_map, j_map, inp_N, conv_N, map_N, null_ind, shared_weight_to_conn):\n",
    "    center_input = [2 * i_map, 2 * j_map]\n",
    "    mid = conv_N // 2\n",
    "    lower, upper = -mid, mid\n",
    "    for inp_row in range(lower, upper + 1):\n",
    "        for inp_col in range(lower, upper + 1):\n",
    "            if (center_input[0] + inp_row < 0) or (center_input[0] + inp_row >= inp_N) or (center_input[1] + inp_col < 0) or (center_input[1] + inp_col >= inp_N):\n",
    "                inp_connection_ind = null_ind\n",
    "            else:\n",
    "                inp_connection_ind = k * inp_N ** 2 + inp_N * (center_input[0] + inp_row) + center_input[1] + inp_col\n",
    "            weight_ind = conv_N ** 2 * k + conv_N * (inp_row + mid) + (inp_col + mid)\n",
    "            if weight_ind not in shared_weight_to_conn:\n",
    "                shared_weight_to_conn[weight_ind] = []\n",
    "            shared_weight_to_conn[weight_ind].append([inp_connection_ind, map_N ** 2 * k + map_N * i_map + j_map]) "
   ]
  },
  {
   "cell_type": "code",
   "execution_count": 129,
   "id": "a5df1a7f-5bc8-437f-8806-a2c29c72c8bd",
   "metadata": {},
   "outputs": [],
   "source": [
    "shared_weight_to_conn = {}"
   ]
  },
  {
   "cell_type": "code",
   "execution_count": 130,
   "id": "6233d9b5-2e2b-4c35-aa0a-4308d386be0d",
   "metadata": {},
   "outputs": [],
   "source": [
    "INP_N, CONV_N, MAP_N, N_MAPS = 8, 5, 4, 12"
   ]
  },
  {
   "cell_type": "code",
   "execution_count": 131,
   "id": "81406cdd-c559-404f-90ed-6428d80b87d8",
   "metadata": {},
   "outputs": [],
   "source": [
    "NULL_IND = 769"
   ]
  },
  {
   "cell_type": "code",
   "execution_count": 132,
   "id": "f9f4c5c6-21ee-4633-af41-dfc30152b6ef",
   "metadata": {},
   "outputs": [],
   "source": [
    "for k in range(N_MAPS):\n",
    "    for i_map in range(MAP_N):\n",
    "        for j_map in range(MAP_N):\n",
    "            add_conv_connections(k, i_map, j_map, INP_N, CONV_N, MAP_N, NULL_IND, shared_weight_to_conn)"
   ]
  },
  {
   "cell_type": "code",
   "execution_count": null,
   "id": "ea4cc406-8ae5-4372-b2a0-4d57306b9016",
   "metadata": {},
   "outputs": [],
   "source": [
    "shared_weight_to_conn"
   ]
  },
  {
   "cell_type": "code",
   "execution_count": null,
   "id": "e6c65836-9166-4f72-9fd4-901e56cbddd5",
   "metadata": {},
   "outputs": [],
   "source": []
  }
 ],
 "metadata": {
  "kernelspec": {
   "display_name": "Python 3 (ipykernel)",
   "language": "python",
   "name": "python3"
  },
  "language_info": {
   "codemirror_mode": {
    "name": "ipython",
    "version": 3
   },
   "file_extension": ".py",
   "mimetype": "text/x-python",
   "name": "python",
   "nbconvert_exporter": "python",
   "pygments_lexer": "ipython3",
   "version": "3.10.4"
  }
 },
 "nbformat": 4,
 "nbformat_minor": 5
}
