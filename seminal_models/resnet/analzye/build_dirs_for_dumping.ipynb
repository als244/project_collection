{
 "cells": [
  {
   "cell_type": "code",
   "execution_count": 12,
   "id": "b417b1c9-a87f-4fbe-b57c-669d99a3bec1",
   "metadata": {},
   "outputs": [],
   "source": [
    "import os"
   ]
  },
  {
   "cell_type": "code",
   "execution_count": 13,
   "id": "73563b70-fb6c-44be-8977-0ffe537b651c",
   "metadata": {},
   "outputs": [],
   "source": [
    "PATH_PREFIX = \"/mnt/storage/data/vision/imagenet/training_dumps/\""
   ]
  },
  {
   "cell_type": "code",
   "execution_count": 14,
   "id": "e3cd606e-9d9a-4c2a-8a94-b4e215cbf9e5",
   "metadata": {},
   "outputs": [],
   "source": [
    "N_CONV_BLOCKS = 16"
   ]
  },
  {
   "cell_type": "code",
   "execution_count": 15,
   "id": "a5d0f696-4992-41ca-b0a8-a3f96c33f06f",
   "metadata": {},
   "outputs": [],
   "source": [
    "def build_training_dump_dir(path_prefix, dump_id, n_conv_blocks):\n",
    "    dump_str = str(dump_id).zfill(8)\n",
    "    path = path_prefix + dump_str\n",
    "    os.makedirs(path, exist_ok=True)\n",
    "    # forward activations\n",
    "    forward_activ_path = path + \"/activations\"\n",
    "    os.makedirs(forward_activ_path, exist_ok=True)\n",
    "    forward_conv_block_path = forward_activ_path + \"/conv_blocks\"\n",
    "    os.makedirs(forward_conv_block_path, exist_ok=True)\n",
    "    for i in range(n_conv_blocks):\n",
    "        os.makedirs(forward_conv_block_path + \"/\" + str(i).zfill(2), exist_ok=True)\n",
    "    forward_batch_path = forward_activ_path + \"/batch_norms\"\n",
    "    os.makedirs(forward_batch_path, exist_ok=True)\n",
    "    os.makedirs(forward_batch_path + \"/init\", exist_ok=True)\n",
    "    for i in range(n_conv_blocks):\n",
    "        os.makedirs(forward_batch_path + \"/\" + str(i).zfill(2), exist_ok=True)\n",
    "        os.makedirs(forward_batch_path + \"/\" + str(i).zfill(2) + \"/reduced\", exist_ok=True)\n",
    "        os.makedirs(forward_batch_path + \"/\" + str(i).zfill(2) + \"/spatial\", exist_ok=True)\n",
    "        os.makedirs(forward_batch_path + \"/\" + str(i).zfill(2) + \"/expanded\", exist_ok=True)\n",
    "        os.makedirs(forward_batch_path + \"/\" + str(i).zfill(2) + \"/projected\", exist_ok=True)\n",
    "        \n",
    "    # backprop activation derivs\n",
    "    back_activ_path = path + \"/activation_derivs\"\n",
    "    os.makedirs(back_activ_path, exist_ok=True)\n",
    "    back_conv_block_path = back_activ_path + \"/conv_blocks\"\n",
    "    os.makedirs(back_conv_block_path, exist_ok=True)\n",
    "    for i in range(n_conv_blocks):\n",
    "        os.makedirs(back_conv_block_path + \"/\" + str(i).zfill(2), exist_ok=True)\n",
    "    back_batch_path = back_activ_path + \"/batch_norms\"\n",
    "    os.makedirs(back_batch_path, exist_ok=True)\n",
    "    os.makedirs(back_batch_path + \"/init\", exist_ok=True)\n",
    "    for i in range(n_conv_blocks):\n",
    "        os.makedirs(back_batch_path + \"/\" + str(i).zfill(2), exist_ok=True)\n",
    "        os.makedirs(back_batch_path + \"/\" + str(i).zfill(2) + \"/reduced\", exist_ok=True)\n",
    "        os.makedirs(back_batch_path + \"/\" + str(i).zfill(2) + \"/spatial\", exist_ok=True)\n",
    "        os.makedirs(back_batch_path + \"/\" + str(i).zfill(2) + \"/expanded\", exist_ok=True)\n",
    "        os.makedirs(back_batch_path + \"/\" + str(i).zfill(2) + \"/projected\", exist_ok=True)\n",
    "        \n",
    "    # model parameters\n",
    "    os.makedirs(path + \"/model_params\", exist_ok=True)\n",
    "    os.makedirs(path + \"/gradients\", exist_ok=True)\n",
    "    os.makedirs(path + \"/means\", exist_ok=True)\n",
    "    os.makedirs(path + \"/vars\", exist_ok=True)"
   ]
  },
  {
   "cell_type": "code",
   "execution_count": 16,
   "id": "b268e8a1-cf21-453f-9c40-ae00fc897f91",
   "metadata": {},
   "outputs": [],
   "source": [
    "dump_ids = [i for i in range(0, 1640001, 100)]\n",
    "for dump_id in dump_ids:\n",
    "    build_training_dump_dir(PATH_PREFIX, dump_id, N_CONV_BLOCKS)"
   ]
  },
  {
   "cell_type": "code",
   "execution_count": null,
   "id": "9d2d6702-411f-423a-bcf7-964b858d2236",
   "metadata": {},
   "outputs": [],
   "source": []
  }
 ],
 "metadata": {
  "kernelspec": {
   "display_name": "Python 3 (ipykernel)",
   "language": "python",
   "name": "python3"
  },
  "language_info": {
   "codemirror_mode": {
    "name": "ipython",
    "version": 3
   },
   "file_extension": ".py",
   "mimetype": "text/x-python",
   "name": "python",
   "nbconvert_exporter": "python",
   "pygments_lexer": "ipython3",
   "version": "3.10.6"
  }
 },
 "nbformat": 4,
 "nbformat_minor": 5
}
